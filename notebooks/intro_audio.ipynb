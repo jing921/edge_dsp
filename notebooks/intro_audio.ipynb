{
 "cells": [
  {
   "cell_type": "markdown",
   "metadata": {},
   "source": [
    "# Introduction to medical audio processing at the edge"
   ]
  },
  {
   "cell_type": "markdown",
   "metadata": {},
   "source": [
    "Based on [Play Audio, Read the Files, Create a Spectrogram](https://www.kaggle.com/vbookshelf/play-audio-read-the-files-create-a-spectrogram) but implemented at the edge and pushed to [GitHub](www.github.com)"
   ]
  },
  {
   "cell_type": "markdown",
   "metadata": {},
   "source": [
    "What you'll learn:\n",
    "- Listen to an audio file in a jupyter notebook\n",
    "- Read the files associated with this dataset\n",
    "- Create a spectrogram\n",
    "- Read an audio file as a numpy array\n",
    "- Slice an audio file into sections"
   ]
  },
  {
   "cell_type": "code",
   "execution_count": 2,
   "metadata": {},
   "outputs": [
    {
     "name": "stdout",
     "output_type": "stream",
     "text": [
      "Requirement already satisfied: pandas in /home/carlos/anaconda3/lib/python3.7/site-packages (from -r ../requirements.txt (line 1)) (1.0.1)\n",
      "Requirement already satisfied: numpy in /home/carlos/anaconda3/lib/python3.7/site-packages (from -r ../requirements.txt (line 2)) (1.18.1)\n",
      "Requirement already satisfied: matplotlib in /home/carlos/anaconda3/lib/python3.7/site-packages (from -r ../requirements.txt (line 3)) (3.1.3)\n",
      "Requirement already satisfied: pydub in /home/carlos/anaconda3/lib/python3.7/site-packages (from -r ../requirements.txt (line 4)) (0.23.1)\n",
      "Requirement already satisfied: pytz>=2017.2 in /home/carlos/anaconda3/lib/python3.7/site-packages (from pandas->-r ../requirements.txt (line 1)) (2019.3)\n",
      "Requirement already satisfied: python-dateutil>=2.6.1 in /home/carlos/anaconda3/lib/python3.7/site-packages (from pandas->-r ../requirements.txt (line 1)) (2.8.1)\n",
      "Requirement already satisfied: pyparsing!=2.0.4,!=2.1.2,!=2.1.6,>=2.0.1 in /home/carlos/anaconda3/lib/python3.7/site-packages (from matplotlib->-r ../requirements.txt (line 3)) (2.4.6)\n",
      "Requirement already satisfied: cycler>=0.10 in /home/carlos/anaconda3/lib/python3.7/site-packages (from matplotlib->-r ../requirements.txt (line 3)) (0.10.0)\n",
      "Requirement already satisfied: kiwisolver>=1.0.1 in /home/carlos/anaconda3/lib/python3.7/site-packages (from matplotlib->-r ../requirements.txt (line 3)) (1.1.0)\n",
      "Requirement already satisfied: six>=1.5 in /home/carlos/anaconda3/lib/python3.7/site-packages (from python-dateutil>=2.6.1->pandas->-r ../requirements.txt (line 1)) (1.14.0)\n",
      "Requirement already satisfied: setuptools in /home/carlos/anaconda3/lib/python3.7/site-packages (from kiwisolver>=1.0.1->matplotlib->-r ../requirements.txt (line 3)) (45.2.0.post20200210)\n"
     ]
    }
   ],
   "source": [
    "# Install required libraries\n",
    "# Consider using a virtual environment to protect your device's state\n",
    "!pip install -r ../requirements.txt"
   ]
  },
  {
   "cell_type": "code",
   "execution_count": null,
   "metadata": {},
   "outputs": [],
   "source": [
    "# Download dataset\n"
   ]
  },
  {
   "cell_type": "code",
   "execution_count": 3,
   "metadata": {},
   "outputs": [],
   "source": [
    "# Import main libraries \n",
    "import pandas as pd\n",
    "import numpy as np\n",
    "import os\n",
    "\n",
    "import matplotlib.pyplot as plt\n",
    "%matplotlib inline\n",
    "\n",
    "# Don't Show Warning Messages\n",
    "import warnings\n",
    "warnings.filterwarnings('ignore')"
   ]
  },
  {
   "cell_type": "code",
   "execution_count": null,
   "metadata": {},
   "outputs": [],
   "source": []
  }
 ],
 "metadata": {
  "kernelspec": {
   "display_name": "Python 3",
   "language": "python",
   "name": "python3"
  },
  "language_info": {
   "codemirror_mode": {
    "name": "ipython",
    "version": 3
   },
   "file_extension": ".py",
   "mimetype": "text/x-python",
   "name": "python",
   "nbconvert_exporter": "python",
   "pygments_lexer": "ipython3",
   "version": "3.7.6"
  }
 },
 "nbformat": 4,
 "nbformat_minor": 4
}
