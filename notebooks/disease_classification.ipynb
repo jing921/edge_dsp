{
 "cells": [
  {
   "cell_type": "markdown",
   "metadata": {},
   "source": [
    "# Disease Classification by CNN"
   ]
  },
  {
   "cell_type": "markdown",
   "metadata": {},
   "source": [
    "Based on [Disease Classification by CNN using MFCC](https://www.kaggle.com/gizemtanriver/disease-classification-by-cnn-using-mfcc) but implemented at the edge and pushed to [GitHub](www.github.com)"
   ]
  },
  {
   "cell_type": "markdown",
   "metadata": {},
   "source": [
    "## Tensorflow version"
   ]
  },
  {
   "cell_type": "markdown",
   "metadata": {},
   "source": [
    "This notebook will work the latest stable tensorflow 2 version (**CPU-only**). Change the `requirements.txt` file to `tensorflow-gpu` if you would like to work with the NVIDIA-compatible version of Tensorflow. Stay tuned for a version for AMD GPUs using Docker in the near future."
   ]
  },
  {
   "cell_type": "code",
   "execution_count": 2,
   "metadata": {},
   "outputs": [
    {
     "name": "stdout",
     "output_type": "stream",
     "text": [
      "Requirement already satisfied: pandas in /home/carlos/anaconda3/lib/python3.7/site-packages (from -r ../requirements.txt (line 1)) (1.0.1)\n",
      "Requirement already satisfied: numpy in /home/carlos/anaconda3/lib/python3.7/site-packages (from -r ../requirements.txt (line 2)) (1.18.1)\n",
      "Requirement already satisfied: matplotlib in /home/carlos/anaconda3/lib/python3.7/site-packages (from -r ../requirements.txt (line 3)) (3.1.3)\n",
      "Requirement already satisfied: pydub in /home/carlos/anaconda3/lib/python3.7/site-packages (from -r ../requirements.txt (line 4)) (0.23.1)\n",
      "Requirement already satisfied: pysoundfile in /home/carlos/anaconda3/lib/python3.7/site-packages (from -r ../requirements.txt (line 5)) (0.9.0.post1)\n",
      "Collecting tensorflow\n",
      "  Downloading tensorflow-2.1.0-cp37-cp37m-manylinux2010_x86_64.whl (421.8 MB)\n",
      "\u001b[K     |████████████████████████████████| 421.8 MB 80 kB/s  eta 0:00:015   |████▊                           | 61.9 MB 3.8 MB/s eta 0:01:36     |██████████▌                     | 138.0 MB 4.0 MB/s eta 0:01:11     |█████████████▌                  | 178.2 MB 3.4 MB/s eta 0:01:13     |██████████████                  | 184.7 MB 3.4 MB/s eta 0:01:11     |████████████████████▌           | 269.6 MB 3.8 MB/s eta 0:00:41\n",
      "\u001b[?25hCollecting librosa\n",
      "  Downloading librosa-0.7.2.tar.gz (1.6 MB)\n",
      "\u001b[K     |████████████████████████████████| 1.6 MB 3.8 MB/s eta 0:00:01\n",
      "\u001b[?25hCollecting Keras\n",
      "  Using cached Keras-2.3.1-py2.py3-none-any.whl (377 kB)\n",
      "Processing /home/carlos/.cache/pip/wheels/46/ef/c3/157e41f5ee1372d1be90b09f74f82b10e391eaacca8f22d33e/sklearn-0.0-py2.py3-none-any.whl\n",
      "Requirement already satisfied: seaborn in /home/carlos/anaconda3/lib/python3.7/site-packages (from -r ../requirements.txt (line 10)) (0.10.0)\n",
      "Requirement already satisfied: python-dateutil>=2.6.1 in /home/carlos/anaconda3/lib/python3.7/site-packages (from pandas->-r ../requirements.txt (line 1)) (2.8.1)\n",
      "Requirement already satisfied: pytz>=2017.2 in /home/carlos/anaconda3/lib/python3.7/site-packages (from pandas->-r ../requirements.txt (line 1)) (2019.3)\n",
      "Requirement already satisfied: pyparsing!=2.0.4,!=2.1.2,!=2.1.6,>=2.0.1 in /home/carlos/anaconda3/lib/python3.7/site-packages (from matplotlib->-r ../requirements.txt (line 3)) (2.4.6)\n",
      "Requirement already satisfied: kiwisolver>=1.0.1 in /home/carlos/anaconda3/lib/python3.7/site-packages (from matplotlib->-r ../requirements.txt (line 3)) (1.1.0)\n",
      "Requirement already satisfied: cycler>=0.10 in /home/carlos/anaconda3/lib/python3.7/site-packages (from matplotlib->-r ../requirements.txt (line 3)) (0.10.0)\n",
      "Requirement already satisfied: cffi>=0.6 in /home/carlos/anaconda3/lib/python3.7/site-packages (from pysoundfile->-r ../requirements.txt (line 5)) (1.14.0)\n",
      "Collecting opt-einsum>=2.3.2\n",
      "  Downloading opt_einsum-3.2.1-py3-none-any.whl (63 kB)\n",
      "\u001b[K     |████████████████████████████████| 63 kB 2.4 MB/s eta 0:00:011\n",
      "\u001b[?25hRequirement already satisfied: six>=1.12.0 in /home/carlos/anaconda3/lib/python3.7/site-packages (from tensorflow->-r ../requirements.txt (line 6)) (1.14.0)\n",
      "Processing /home/carlos/.cache/pip/wheels/cc/af/1a/498a24d0730ef484019e007bb9e8cef3ac00311a672c049a3e/absl_py-0.9.0-py3-none-any.whl\n",
      "Collecting astor>=0.6.0\n",
      "  Using cached astor-0.8.1-py2.py3-none-any.whl (27 kB)\n",
      "Collecting tensorflow-estimator<2.2.0,>=2.1.0rc0\n",
      "  Downloading tensorflow_estimator-2.1.0-py2.py3-none-any.whl (448 kB)\n",
      "\u001b[K     |████████████████████████████████| 448 kB 4.1 MB/s eta 0:00:01\n",
      "\u001b[?25hCollecting tensorboard<2.2.0,>=2.1.0\n",
      "  Downloading tensorboard-2.1.1-py3-none-any.whl (3.8 MB)\n",
      "\u001b[K     |████████████████████████████████| 3.8 MB 3.3 MB/s eta 0:00:01\n",
      "\u001b[?25hCollecting grpcio>=1.8.6\n",
      "  Downloading grpcio-1.28.1-cp37-cp37m-manylinux2010_x86_64.whl (2.8 MB)\n",
      "\u001b[K     |████████████████████████████████| 2.8 MB 3.8 MB/s eta 0:00:01\n",
      "\u001b[?25hRequirement already satisfied: scipy==1.4.1; python_version >= \"3\" in /home/carlos/anaconda3/lib/python3.7/site-packages (from tensorflow->-r ../requirements.txt (line 6)) (1.4.1)\n",
      "Requirement already satisfied: wrapt>=1.11.1 in /home/carlos/anaconda3/lib/python3.7/site-packages (from tensorflow->-r ../requirements.txt (line 6)) (1.11.2)\n",
      "Processing /home/carlos/.cache/pip/wheels/3f/e3/ec/8a8336ff196023622fbcb36de0c5a5c218cbb24111d1d4c7f2/termcolor-1.1.0-py3-none-any.whl\n",
      "Collecting keras-applications>=1.0.8\n",
      "  Using cached Keras_Applications-1.0.8-py3-none-any.whl (50 kB)\n",
      "Collecting protobuf>=3.8.0\n",
      "  Using cached protobuf-3.11.3-cp37-cp37m-manylinux1_x86_64.whl (1.3 MB)\n",
      "Collecting keras-preprocessing>=1.1.0\n",
      "  Using cached Keras_Preprocessing-1.1.0-py2.py3-none-any.whl (41 kB)\n",
      "Requirement already satisfied: wheel>=0.26; python_version >= \"3\" in /home/carlos/anaconda3/lib/python3.7/site-packages (from tensorflow->-r ../requirements.txt (line 6)) (0.34.2)\n",
      "Processing /home/carlos/.cache/pip/wheels/21/7f/02/420f32a803f7d0967b48dd823da3f558c5166991bfd204eef3/gast-0.2.2-py3-none-any.whl\n",
      "Collecting google-pasta>=0.1.6\n",
      "  Using cached google_pasta-0.2.0-py3-none-any.whl (57 kB)\n",
      "Collecting audioread>=2.0.0\n",
      "  Downloading audioread-2.1.8.tar.gz (21 kB)\n",
      "Requirement already satisfied: scikit-learn!=0.19.0,>=0.14.0 in /home/carlos/anaconda3/lib/python3.7/site-packages (from librosa->-r ../requirements.txt (line 7)) (0.22.1)\n",
      "Requirement already satisfied: joblib>=0.12 in /home/carlos/anaconda3/lib/python3.7/site-packages (from librosa->-r ../requirements.txt (line 7)) (0.14.1)\n",
      "Requirement already satisfied: decorator>=3.0.0 in /home/carlos/anaconda3/lib/python3.7/site-packages (from librosa->-r ../requirements.txt (line 7)) (4.4.1)\n",
      "Collecting resampy>=0.2.2\n",
      "  Downloading resampy-0.2.2.tar.gz (323 kB)\n",
      "\u001b[K     |████████████████████████████████| 323 kB 3.6 MB/s eta 0:00:01\n",
      "\u001b[?25hRequirement already satisfied: numba>=0.43.0 in /home/carlos/anaconda3/lib/python3.7/site-packages (from librosa->-r ../requirements.txt (line 7)) (0.48.0)\n",
      "Collecting soundfile>=0.9.0\n",
      "  Downloading SoundFile-0.10.3.post1-py2.py3-none-any.whl (21 kB)\n",
      "Requirement already satisfied: pyyaml in /home/carlos/anaconda3/lib/python3.7/site-packages (from Keras->-r ../requirements.txt (line 8)) (5.3)\n",
      "Requirement already satisfied: h5py in /home/carlos/anaconda3/lib/python3.7/site-packages (from Keras->-r ../requirements.txt (line 8)) (2.10.0)\n",
      "Requirement already satisfied: setuptools in /home/carlos/anaconda3/lib/python3.7/site-packages (from kiwisolver>=1.0.1->matplotlib->-r ../requirements.txt (line 3)) (45.2.0.post20200210)\n",
      "Requirement already satisfied: pycparser in /home/carlos/anaconda3/lib/python3.7/site-packages (from cffi>=0.6->pysoundfile->-r ../requirements.txt (line 5)) (2.19)\n",
      "Collecting google-auth-oauthlib<0.5,>=0.4.1\n",
      "  Downloading google_auth_oauthlib-0.4.1-py2.py3-none-any.whl (18 kB)\n",
      "Requirement already satisfied: requests<3,>=2.21.0 in /home/carlos/anaconda3/lib/python3.7/site-packages (from tensorboard<2.2.0,>=2.1.0->tensorflow->-r ../requirements.txt (line 6)) (2.22.0)\n",
      "Collecting google-auth<2,>=1.6.3\n",
      "  Downloading google_auth-1.14.0-py2.py3-none-any.whl (88 kB)\n",
      "\u001b[K     |████████████████████████████████| 88 kB 4.0 MB/s eta 0:00:011\n",
      "\u001b[?25hCollecting markdown>=2.6.8\n",
      "  Using cached Markdown-3.2.1-py2.py3-none-any.whl (88 kB)\n",
      "Requirement already satisfied: werkzeug>=0.11.15 in /home/carlos/anaconda3/lib/python3.7/site-packages (from tensorboard<2.2.0,>=2.1.0->tensorflow->-r ../requirements.txt (line 6)) (1.0.0)\n",
      "Requirement already satisfied: llvmlite<0.32.0,>=0.31.0dev0 in /home/carlos/anaconda3/lib/python3.7/site-packages (from numba>=0.43.0->librosa->-r ../requirements.txt (line 7)) (0.31.0)\n",
      "Collecting requests-oauthlib>=0.7.0\n",
      "  Downloading requests_oauthlib-1.3.0-py2.py3-none-any.whl (23 kB)\n",
      "Requirement already satisfied: certifi>=2017.4.17 in /home/carlos/anaconda3/lib/python3.7/site-packages (from requests<3,>=2.21.0->tensorboard<2.2.0,>=2.1.0->tensorflow->-r ../requirements.txt (line 6)) (2019.11.28)\n",
      "Requirement already satisfied: chardet<3.1.0,>=3.0.2 in /home/carlos/anaconda3/lib/python3.7/site-packages (from requests<3,>=2.21.0->tensorboard<2.2.0,>=2.1.0->tensorflow->-r ../requirements.txt (line 6)) (3.0.4)\n",
      "Requirement already satisfied: urllib3!=1.25.0,!=1.25.1,<1.26,>=1.21.1 in /home/carlos/anaconda3/lib/python3.7/site-packages (from requests<3,>=2.21.0->tensorboard<2.2.0,>=2.1.0->tensorflow->-r ../requirements.txt (line 6)) (1.25.8)\n"
     ]
    },
    {
     "name": "stdout",
     "output_type": "stream",
     "text": [
      "Requirement already satisfied: idna<2.9,>=2.5 in /home/carlos/anaconda3/lib/python3.7/site-packages (from requests<3,>=2.21.0->tensorboard<2.2.0,>=2.1.0->tensorflow->-r ../requirements.txt (line 6)) (2.8)\n",
      "Collecting pyasn1-modules>=0.2.1\n",
      "  Downloading pyasn1_modules-0.2.8-py2.py3-none-any.whl (155 kB)\n",
      "\u001b[K     |████████████████████████████████| 155 kB 3.7 MB/s eta 0:00:01\n",
      "\u001b[?25hCollecting cachetools<5.0,>=2.0.0\n",
      "  Downloading cachetools-4.1.0-py3-none-any.whl (10 kB)\n",
      "Requirement already satisfied: rsa<4.1,>=3.1.4 in /home/carlos/anaconda3/lib/python3.7/site-packages (from google-auth<2,>=1.6.3->tensorboard<2.2.0,>=2.1.0->tensorflow->-r ../requirements.txt (line 6)) (3.4.2)\n",
      "Collecting oauthlib>=3.0.0\n",
      "  Downloading oauthlib-3.1.0-py2.py3-none-any.whl (147 kB)\n",
      "\u001b[K     |████████████████████████████████| 147 kB 3.7 MB/s eta 0:00:01\n",
      "\u001b[?25hRequirement already satisfied: pyasn1<0.5.0,>=0.4.6 in /home/carlos/anaconda3/lib/python3.7/site-packages (from pyasn1-modules>=0.2.1->google-auth<2,>=1.6.3->tensorboard<2.2.0,>=2.1.0->tensorflow->-r ../requirements.txt (line 6)) (0.4.8)\n",
      "Building wheels for collected packages: librosa, audioread, resampy\n",
      "  Building wheel for librosa (setup.py) ... \u001b[?25ldone\n",
      "\u001b[?25h  Created wheel for librosa: filename=librosa-0.7.2-py3-none-any.whl size=1612883 sha256=d89e8deaab876f00e113771378feb32ed3e30c171fd7c38c9b028c4f4cebca77\n",
      "  Stored in directory: /home/carlos/.cache/pip/wheels/18/9e/42/3224f85730f92fa2925f0b4fb6ef7f9c5431a64dfc77b95b39\n",
      "  Building wheel for audioread (setup.py) ... \u001b[?25ldone\n",
      "\u001b[?25h  Created wheel for audioread: filename=audioread-2.1.8-py3-none-any.whl size=23091 sha256=f4a3d24cacbe8ae567b070145f7dde559fd39bd5d878ecaaf3e0e299c1e20539\n",
      "  Stored in directory: /home/carlos/.cache/pip/wheels/cd/85/04/704a589ef8773d1ec1393c4b271a023f929d85ef5317b12d8c\n",
      "  Building wheel for resampy (setup.py) ... \u001b[?25ldone\n",
      "\u001b[?25h  Created wheel for resampy: filename=resampy-0.2.2-py3-none-any.whl size=320720 sha256=3918e743705ce5e8ededf180105563c67c672b5d54292bc1e221941ec7cbbf24\n",
      "  Stored in directory: /home/carlos/.cache/pip/wheels/a0/18/0a/8ad18a597d8333a142c9789338a96a6208f1198d290ece356c\n",
      "Successfully built librosa audioread resampy\n",
      "Installing collected packages: opt-einsum, absl-py, astor, tensorflow-estimator, pyasn1-modules, cachetools, google-auth, oauthlib, requests-oauthlib, google-auth-oauthlib, protobuf, grpcio, markdown, tensorboard, termcolor, keras-applications, keras-preprocessing, gast, google-pasta, tensorflow, audioread, resampy, soundfile, librosa, Keras, sklearn\n",
      "Successfully installed Keras-2.3.1 absl-py-0.9.0 astor-0.8.1 audioread-2.1.8 cachetools-4.1.0 gast-0.2.2 google-auth-1.14.0 google-auth-oauthlib-0.4.1 google-pasta-0.2.0 grpcio-1.28.1 keras-applications-1.0.8 keras-preprocessing-1.1.0 librosa-0.7.2 markdown-3.2.1 oauthlib-3.1.0 opt-einsum-3.2.1 protobuf-3.11.3 pyasn1-modules-0.2.8 requests-oauthlib-1.3.0 resampy-0.2.2 sklearn-0.0 soundfile-0.10.3.post1 tensorboard-2.1.1 tensorflow-2.1.0 tensorflow-estimator-2.1.0 termcolor-1.1.0\n"
     ]
    }
   ],
   "source": [
    "# Install required libraries\n",
    "# Consider using a virtual environment to protect your device's state\n",
    "!pip install -r ../requirements.txt"
   ]
  },
  {
   "cell_type": "code",
   "execution_count": 3,
   "metadata": {},
   "outputs": [
    {
     "name": "stderr",
     "output_type": "stream",
     "text": [
      "Using TensorFlow backend.\n"
     ]
    }
   ],
   "source": [
    "# Load various imports \n",
    "from datetime import datetime\n",
    "from os import listdir\n",
    "from os.path import isfile, join\n",
    "\n",
    "import librosa\n",
    "import librosa.display\n",
    "\n",
    "import numpy as np\n",
    "import pandas as pd\n",
    "\n",
    "from tensorflow.keras.models import Sequential\n",
    "from tensorflow.keras.layers import Dense, Dropout, Conv2D, MaxPooling2D, GlobalAveragePooling2D\n",
    "from keras.utils import to_categorical\n",
    "from tensorflow.keras.callbacks import ModelCheckpoint\n",
    "\n",
    "from sklearn.metrics import confusion_matrix, classification_report, roc_curve, auc\n",
    "from sklearn.model_selection import train_test_split\n",
    "from sklearn.preprocessing import LabelEncoder\n",
    "\n",
    "import matplotlib.pyplot as plt\n",
    "import seaborn as sns"
   ]
  },
  {
   "cell_type": "code",
   "execution_count": 7,
   "metadata": {},
   "outputs": [],
   "source": [
    "mypath = \"../data/respiratory_sound_database/audio_and_txt_files\"\n",
    "filenames = [f for f in listdir(mypath) if (isfile(join(mypath, f)) and f.endswith('.wav'))] "
   ]
  },
  {
   "cell_type": "code",
   "execution_count": 8,
   "metadata": {},
   "outputs": [],
   "source": [
    "p_id_in_file = [] # patient IDs corresponding to each file\n",
    "for name in filenames:\n",
    "    p_id_in_file.append(int(name[:3]))\n",
    "\n",
    "p_id_in_file = np.array(p_id_in_file) "
   ]
  },
  {
   "cell_type": "markdown",
   "metadata": {},
   "source": [
    "# EXPLAIN WHAT MFCC IS!!"
   ]
  },
  {
   "cell_type": "markdown",
   "metadata": {},
   "source": [
    "Using [LibROSA Demo](https://nbviewer.jupyter.org/github/librosa/librosa/blob/master/examples/LibROSA%20demo.ipynb) \n",
    "or \n",
    "[Read and Visualize Audio Files in Python](librosa module)(https://www.youtube.com/watch?v=vJ_WL9aYfNI)\n",
    "Use them to deploy this part then put them below as resources"
   ]
  },
  {
   "cell_type": "code",
   "execution_count": 9,
   "metadata": {},
   "outputs": [],
   "source": [
    "max_pad_len = 862 # to make the length of all MFCC equal\n",
    "\n",
    "def extract_features(file_name):\n",
    "    \"\"\"\n",
    "    This function takes in the path for an audio file as a string, loads it, and returns the MFCC\n",
    "    of the audio\"\"\"\n",
    "   \n",
    "    try:\n",
    "        audio, sample_rate = librosa.load(file_name, res_type='kaiser_fast', duration=20) \n",
    "        mfccs = librosa.feature.mfcc(y=audio, sr=sample_rate, n_mfcc=40)\n",
    "        pad_width = max_pad_len - mfccs.shape[1]\n",
    "        mfccs = np.pad(mfccs, pad_width=((0, 0), (0, pad_width)), mode='constant')\n",
    "        \n",
    "    except Exception as e:\n",
    "        print(\"Error encountered while parsing file: \", file_name)\n",
    "        return None \n",
    "     \n",
    "    return mfccs"
   ]
  },
  {
   "cell_type": "markdown",
   "metadata": {},
   "source": [
    "**WORK IN PROGRESS** "
   ]
  },
  {
   "cell_type": "code",
   "execution_count": null,
   "metadata": {},
   "outputs": [],
   "source": []
  }
 ],
 "metadata": {
  "kernelspec": {
   "display_name": "Python 3",
   "language": "python",
   "name": "python3"
  },
  "language_info": {
   "codemirror_mode": {
    "name": "ipython",
    "version": 3
   },
   "file_extension": ".py",
   "mimetype": "text/x-python",
   "name": "python",
   "nbconvert_exporter": "python",
   "pygments_lexer": "ipython3",
   "version": "3.7.6"
  }
 },
 "nbformat": 4,
 "nbformat_minor": 4
}
